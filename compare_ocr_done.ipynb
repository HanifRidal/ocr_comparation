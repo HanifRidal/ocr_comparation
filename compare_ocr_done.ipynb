{
  "nbformat": 4,
  "nbformat_minor": 0,
  "metadata": {
    "colab": {
      "private_outputs": true,
      "provenance": [],
      "gpuType": "T4",
      "cell_execution_strategy": "setup",
      "authorship_tag": "ABX9TyMdtWOABFWzQ5DEmvtkjknH",
      "include_colab_link": true
    },
    "kernelspec": {
      "name": "python3",
      "display_name": "Python 3"
    },
    "language_info": {
      "name": "python"
    },
    "accelerator": "GPU"
  },
  "cells": [
    {
      "cell_type": "markdown",
      "metadata": {
        "id": "view-in-github",
        "colab_type": "text"
      },
      "source": [
        "<a href=\"https://colab.research.google.com/github/HanifRidal/ocr_comparation/blob/main/compare_ocr_done.ipynb\" target=\"_parent\"><img src=\"https://colab.research.google.com/assets/colab-badge.svg\" alt=\"Open In Colab\"/></a>"
      ]
    },
    {
      "cell_type": "code",
      "source": [],
      "metadata": {
        "id": "MWSgdisS3BkP"
      },
      "execution_count": null,
      "outputs": []
    },
    {
      "cell_type": "markdown",
      "source": [],
      "metadata": {
        "id": "4mW3p7Dq3DQW"
      }
    },
    {
      "cell_type": "code",
      "source": [
        "!pip install pytesseract\n",
        "!apt-get install tesseract-ocr"
      ],
      "metadata": {
        "id": "nhYeJgWsb2Bm",
        "collapsed": true
      },
      "execution_count": null,
      "outputs": []
    },
    {
      "cell_type": "code",
      "source": [
        "!pip install easyocr"
      ],
      "metadata": {
        "id": "qRsqIgpqb7Gq",
        "collapsed": true
      },
      "execution_count": null,
      "outputs": []
    },
    {
      "cell_type": "code",
      "source": [
        "!pip install \"tensorflow==2.15.1\"\n",
        "!pip install keras_ocr"
      ],
      "metadata": {
        "id": "vUuxna81b71q",
        "collapsed": true
      },
      "execution_count": null,
      "outputs": []
    },
    {
      "cell_type": "code",
      "source": [
        "!pip install paddleocr paddlepaddle"
      ],
      "metadata": {
        "id": "FQvpXxNBbrYt",
        "collapsed": true
      },
      "execution_count": null,
      "outputs": []
    },
    {
      "cell_type": "code",
      "source": [
        "# !pip install --upgrade tensorflow\n",
        "# !pip install --upgrade keras_ocr"
      ],
      "metadata": {
        "id": "DN2_9CMvSVtu",
        "collapsed": true
      },
      "execution_count": null,
      "outputs": []
    },
    {
      "cell_type": "code",
      "source": [
        "import cv2\n",
        "import pytesseract\n",
        "import easyocr\n",
        "import keras_ocr\n",
        "from paddleocr import PaddleOCR\n",
        "import matplotlib.pyplot as plt\n",
        "import seaborn as sns\n",
        "import pandas as pd\n",
        "import time\n",
        "import os\n",
        "import re\n",
        "import psutil\n",
        "import gc"
      ],
      "metadata": {
        "id": "sbYLwXVS25Cb"
      },
      "execution_count": null,
      "outputs": []
    },
    {
      "cell_type": "code",
      "execution_count": null,
      "metadata": {
        "id": "cm37zUXnbGJB",
        "collapsed": true
      },
      "outputs": [],
      "source": [
        "# Inisialisasi OCR Models\n",
        "tesseract_config = '--oem 3 --psm 6'\n",
        "reader_easyocr = easyocr.Reader(['en', 'id'])\n",
        "pipeline_keras = keras_ocr.pipeline.Pipeline()\n",
        "ocr_paddle = PaddleOCR(use_angle_cls=True, lang='en')"
      ]
    },
    {
      "cell_type": "code",
      "source": [
        "from google.colab import drive\n",
        "drive.mount('/content/drive')"
      ],
      "metadata": {
        "id": "EFAVNcKHYflK"
      },
      "execution_count": null,
      "outputs": []
    },
    {
      "cell_type": "code",
      "source": [
        "import os\n",
        "from PIL import Image\n",
        "\n",
        "dataset_path = '/content/drive/MyDrive/Skripsi/dataset/'\n",
        "\n",
        "image_files = sorted([f for f in os.listdir(dataset_path) if os.path.isfile(os.path.join(dataset_path, f)) and f.endswith(('.png', '.jpg', '.jpeg'))]) # Sort to maintain order\n",
        "\n",
        "# Set up a grid display\n",
        "num_images = len(image_files)\n",
        "cols = 5  # Number of columns in grid\n",
        "rows = (num_images // cols) + 1  # Calculate rows dynamically\n",
        "\n",
        "plt.figure(figsize=(15, 3 * rows))\n",
        "\n",
        "for i, img_file in enumerate(image_files):\n",
        "    img_path = os.path.join(dataset_path, img_file)\n",
        "    img = Image.open(img_path)\n",
        "\n",
        "    plt.subplot(rows, cols, i + 1)\n",
        "    plt.imshow(img)\n",
        "    plt.axis(\"off\")\n",
        "    plt.title(img_file[:15])  # Show partial filename\n",
        "\n",
        "plt.tight_layout()\n",
        "plt.show()"
      ],
      "metadata": {
        "id": "v34e4QL6YgUM"
      },
      "execution_count": null,
      "outputs": []
    },
    {
      "cell_type": "code",
      "source": [
        "# Direktori gambar\n",
        "# image_directory = \"/content/images\"\n",
        "image_directory = '/content/drive/MyDrive/Skripsi/dataset/'\n",
        "image_files = [os.path.join(image_directory, f) for f in os.listdir(image_directory) if f.endswith(('.png', '.jpg', '.jpeg'))]"
      ],
      "metadata": {
        "id": "KBbSssS-9O9V"
      },
      "execution_count": null,
      "outputs": []
    },
    {
      "cell_type": "code",
      "source": [
        "# Ground truth untuk perhitungan akurasi\n",
        "# ground_truth_dict = {\n",
        "#     '/content/images/gambar1.png': \"\"\"Once upon a time, There were a girl named Bawang Putih,\n",
        "#     she lived With her step mother and her step sister named Bawang\n",
        "#     Merah. Bawang Putih’s life was sad. Her step mother and her step\n",
        "#     sister treated Bawang Putih badly and always asked her to do all the\n",
        "#     household chores.\n",
        "\n",
        "#     One morning, Bawang Putih was washing some clothes in a\n",
        "#     river. Accidentlly, her mother’s clothes fell down to the rever. Finally,\n",
        "#     she met an old woman. The old woman returned the clothes. She\n",
        "#     also gave Bawang Putih a small pumpkin and a big pumpkin. At home,\n",
        "#     Bawang Merah looked at the pumpkins, and she look a big pumpkin.\n",
        "#     Bawang Putih opened the small pumpkin and found jewelleries inside\n",
        "#     her pumpkin. Then, Bawang -\n",
        "\n",
        "#     Finally both of them realized their mistakes. They apologized\n",
        "#     to Bawang Putih and she forgave them.\"\"\",\n",
        "\n",
        "#     '/content/images/gambar2.jpg': \"\"\"membuat animasi\n",
        "#     text writing\"\"\",\n",
        "\n",
        "#     '/content/images/gambar3.jpg': \"\"\"Best.\n",
        "#     Summer.\n",
        "#     Ever.\"\"\",\n",
        "#     }\n",
        "\n",
        "ground_truth_dict = {\n",
        "    '/content/drive/MyDrive/Skripsi/dataset/gambar1.png': \"\"\"Once upon a time, There were a girl named Bawang Putih,\n",
        "    she lived With her step mother and her step sister named Bawang\n",
        "    Merah. Bawang Putih’s life was sad. Her step mother and her step\n",
        "    sister treated Bawang Putih badly and always asked her to do all the\n",
        "    household chores.\n",
        "\n",
        "    One morning, Bawang Putih was washing some clothes in a\n",
        "    river. Accidentlly, her mother’s clothes fell down to the rever. Finally,\n",
        "    she met an old woman. The old woman returned the clothes. She\n",
        "    also gave Bawang Putih a small pumpkin and a big pumpkin. At home,\n",
        "    Bawang Merah looked at the pumpkins, and she look a big pumpkin.\n",
        "    Bawang Putih opened the small pumpkin and found jewelleries inside\n",
        "    her pumpkin. Then, Bawang -\n",
        "\n",
        "    Finally both of them realized their mistakes. They apologized\n",
        "    to Bawang Putih and she forgave them.\"\"\",\n",
        "\n",
        "    '/content/drive/MyDrive/Skripsi/dataset/gambar2.jpg': \"\"\"membuat animasi\n",
        "    text writing\"\"\",\n",
        "\n",
        "    '/content/drive/MyDrive/Skripsi/dataset/gambar3.jpg': \"\"\"Best.\n",
        "    Summer.\n",
        "    Ever.\"\"\",\n",
        "    }"
      ],
      "metadata": {
        "id": "vIoFU8_G83yI"
      },
      "execution_count": null,
      "outputs": []
    },
    {
      "cell_type": "code",
      "source": [
        "# Fungsi untuk menghitung Word Accuracy (WA)\n",
        "def word_accuracy(extracted_text, ground_truth):\n",
        "    extracted_words = re.findall(r'\\w+', extracted_text.lower())\n",
        "    ground_truth_words = re.findall(r'\\w+', ground_truth.lower())\n",
        "    correct_words = len(set(extracted_words) & set(ground_truth_words))\n",
        "    total_words = len(ground_truth_words)\n",
        "    return (correct_words / total_words * 100) if total_words > 0 else 0.0\n",
        "\n",
        "# Fungsi untuk mengukur RAM usage\n",
        "def get_ram_usage():\n",
        "    return psutil.Process().memory_info().rss / (1024 * 1024)  # Dalam MB\n",
        "\n",
        "# Fungsi untuk menggambar bounding box pada gambar hasil OCR\n",
        "def draw_bounding_boxes(image, boxes):\n",
        "    for box in boxes:\n",
        "        x_min, y_min = map(int, box[0][0])\n",
        "        x_max, y_max = map(int, box[0][2])\n",
        "        cv2.rectangle(image, (x_min, y_min), (x_max, y_max), (0, 255, 0), 2)\n",
        "    return image\n",
        "\n",
        "# Fungsi OCR menggunakan Tesseract dengan preprocessing\n",
        "def ocr_tesseract(image_path):\n",
        "    img = cv2.imread(image_path)\n",
        "\n",
        "    gray = cv2.cvtColor(img, cv2.COLOR_BGR2GRAY)  # Preprocessing\n",
        "    _, img_bin = cv2.threshold(gray, 150, 255, cv2.THRESH_BINARY)\n",
        "\n",
        "    start_time = time.time()\n",
        "    extracted_text = pytesseract.image_to_string(img_bin, lang='eng+ind')\n",
        "\n",
        "    h, w, _ = img.shape\n",
        "    boxes = pytesseract.image_to_boxes(img_bin)\n",
        "    for b in boxes.splitlines():\n",
        "        b = b.split()\n",
        "        x, y, w_b, h_b = int(b[1]), int(b[2]), int(b[3]), int(b[4])\n",
        "        cv2.rectangle(img, (x, h - y), (w_b, h - h_b), (0, 255, 0), 2)\n",
        "\n",
        "    elapsed_time = time.time() - start_time\n",
        "    return extracted_text, elapsed_time, img\n",
        "\n",
        "# Fungsi OCR menggunakan EasyOCR\n",
        "def ocr_easyocr(image_path):\n",
        "    img = cv2.imread(image_path)\n",
        "\n",
        "    start_time = time.time()\n",
        "    results = reader_easyocr.readtext(img)\n",
        "\n",
        "    extracted_text = \"\\n\".join([text for (_, text, _) in results])\n",
        "    for (bbox, text, _) in results:\n",
        "        cv2.rectangle(img,\n",
        "                      tuple(map(int, bbox[0])),\n",
        "                      tuple(map(int, bbox[2])),\n",
        "                       (0, 255, 0), 2)\n",
        "\n",
        "    elapsed_time = time.time() - start_time\n",
        "    return extracted_text, elapsed_time, img\n",
        "\n",
        "# Fungsi OCR menggunakan Keras-OCR\n",
        "def ocr_keras(image_path):\n",
        "    img = keras_ocr.tools.read(image_path)\n",
        "\n",
        "    start_time = time.time()\n",
        "    results = pipeline_keras.recognize([img])[0]\n",
        "\n",
        "    extracted_text = \"\\n\".join([text for text, _ in results])\n",
        "    for (text, bbox) in results:\n",
        "        cv2.rectangle(img,\n",
        "                      tuple(map(int, bbox[0])),\n",
        "                      tuple(map(int, bbox[2])),\n",
        "                       (0, 255, 0), 2)\n",
        "\n",
        "    elapsed_time = time.time() - start_time\n",
        "    return extracted_text, elapsed_time, img\n",
        "\n",
        "# Fungsi OCR menggunakan PaddleOCR\n",
        "def ocr_paddleocr(image_path):\n",
        "    img = cv2.imread(image_path)\n",
        "\n",
        "    start_time = time.time()\n",
        "    result = ocr_paddle.ocr(image_path, cls=True)\n",
        "\n",
        "    extracted_text = \"\\n\".join([word_info[1][0] for line in result for word_info in line])\n",
        "    for line in result:\n",
        "        for word_info in line:\n",
        "            x_min, y_min = map(int, word_info[0][0])\n",
        "            x_max, y_max = map(int, word_info[0][2])\n",
        "            cv2.rectangle(img, (x_min, y_min), (x_max, y_max), (0, 255, 0), 2)\n",
        "\n",
        "    elapsed_time = time.time() - start_time\n",
        "    return extracted_text, elapsed_time, img"
      ],
      "metadata": {
        "id": "hTZHbiuvbJNk"
      },
      "execution_count": null,
      "outputs": []
    },
    {
      "cell_type": "code",
      "source": [
        "# Menyimpan hasil\n",
        "results_data = {\n",
        "    \"Method\": [],\n",
        "    \"Execution Time (s)\": [],\n",
        "    \"Word Accuracy (%)\": [],\n",
        "    \"RAM Usage (MB)\": []\n",
        "}\n",
        "\n",
        "results_list = []"
      ],
      "metadata": {
        "id": "nI6qSuiabN7Q"
      },
      "execution_count": null,
      "outputs": []
    },
    {
      "cell_type": "code",
      "source": [
        "# Proses semua gambar\n",
        "for image_path in image_files:\n",
        "    print(f\"\\nMemproses: {image_path}\")\n",
        "    ground_truth = ground_truth_dict.get(image_path, \"\")\n",
        "\n",
        "    methods = {\n",
        "        \"Tesseract\": ocr_tesseract,\n",
        "        \"EasyOCR\": ocr_easyocr,\n",
        "        \"Keras-OCR\": ocr_keras,\n",
        "        \"PaddleOCR\": ocr_paddleocr\n",
        "    }\n",
        "\n",
        "    for method_name, method in methods.items():\n",
        "        gc.collect()  # Bersihkan memory sebelum eksekusi\n",
        "        ram_before = get_ram_usage()\n",
        "        extracted_text, processing_time, processed_image = method(image_path)\n",
        "        ram_after = get_ram_usage()\n",
        "        wa = word_accuracy(extracted_text, ground_truth)\n",
        "\n",
        "        # Simpan hasil dalam list untuk DataFrame\n",
        "        results_list.append([method_name, image_path, processing_time, wa, ram_after - ram_before])\n",
        "\n",
        "        results_data[\"Method\"].append(method_name)\n",
        "\n",
        "        # Menampilkan gambar asli & hasil OCR dengan bounding box\n",
        "        fig, ax = plt.subplots(1, 2, figsize=(12, 5))\n",
        "        ax[0].imshow(cv2.imread(image_path)[..., ::-1])\n",
        "        ax[0].set_title(\"Gambar Asli\")\n",
        "        ax[0].axis(\"off\")\n",
        "\n",
        "        ax[1].imshow(processed_image[..., ::-1])\n",
        "        ax[1].set_title(f\"{method_name} - Hasil OCR\")\n",
        "        ax[1].axis(\"off\")\n",
        "\n",
        "        plt.show()\n",
        "\n",
        "        results_data[\"Execution Time (s)\"].append(processing_time)\n",
        "        results_data[\"Word Accuracy (%)\"].append(wa)\n",
        "        results_data[\"RAM Usage (MB)\"].append(ram_after - ram_before)\n",
        "\n",
        "        # Menampilkan hasil gambar dengan bounding box\n",
        "        # fig, ax = plt.subplots(1, 2, figsize=(12, 5))\n",
        "        # ax[0].imshow(cv2.imread(image_path)[..., ::-1])\n",
        "        # ax[0].set_title(\"Gambar Asli\")\n",
        "        # ax[0].axis(\"off\")\n",
        "\n",
        "        # ax[1].imshow(processed_image)\n",
        "        # ax[1].set_title(f\"Hasil OCR - {method_name}\")\n",
        "        # ax[1].axis(\"off\")\n",
        "\n",
        "        # Output hasil per metode\n",
        "        print(f\"🔹 {method_name}\")\n",
        "        print(f\"   - Hasil Teks:\\n{extracted_text[:200]}...\")  # Potong teks untuk tampilan\n",
        "        print(f\"   - Waktu Eksekusi: {processing_time:.4f} detik\")\n",
        "        print(f\"   - Word Accuracy: {wa:.2f}%\")\n",
        "        print(f\"   - RAM Digunakan: {ram_after - ram_before:.2f} MB\\n\")"
      ],
      "metadata": {
        "id": "yMZ9yKSCbO_8"
      },
      "execution_count": null,
      "outputs": []
    },
    {
      "cell_type": "code",
      "source": [
        "# Visualisasi hasil\n",
        "plt.figure(figsize=(12, 5))"
      ],
      "metadata": {
        "id": "KE7MBzuwCqrc"
      },
      "execution_count": null,
      "outputs": []
    },
    {
      "cell_type": "code",
      "source": [
        "# Grafik waktu eksekusi\n",
        "plt.subplot(1, 1, 1)\n",
        "plt.bar(results_data[\"Method\"], results_data[\"Execution Time (s)\"], color=['red', 'blue', 'green', 'purple'])\n",
        "plt.ylabel(\"Waktu Eksekusi (s)\")\n",
        "plt.title(\"Perbandingan Waktu Eksekusi OCR\")"
      ],
      "metadata": {
        "id": "OikXtw_hCtib"
      },
      "execution_count": null,
      "outputs": []
    },
    {
      "cell_type": "code",
      "source": [
        "# Grafik akurasi\n",
        "plt.subplot(2, 1, 2)\n",
        "plt.bar(results_data[\"Method\"], results_data[\"Word Accuracy (%)\"], color=['red', 'blue', 'green', 'purple'])\n",
        "plt.ylabel(\"Word Accuracy (%)\")\n",
        "plt.title(\"Perbandingan Akurasi OCR\")"
      ],
      "metadata": {
        "id": "NQ7h6MMiCx0l"
      },
      "execution_count": null,
      "outputs": []
    },
    {
      "cell_type": "code",
      "source": [
        "# Grafik penggunaan RAM\n",
        "plt.subplot(3, 1, 3)\n",
        "plt.bar(results_data[\"Method\"], results_data[\"RAM Usage (MB)\"], color=['red', 'blue', 'green', 'purple'])\n",
        "plt.ylabel(\"Penggunaan RAM (MB)\")\n",
        "plt.title(\"Perbandingan Penggunaan RAM OCR\")\n",
        "\n",
        "plt.tight_layout()\n",
        "plt.show()"
      ],
      "metadata": {
        "id": "lQL1iY_Dbag9"
      },
      "execution_count": null,
      "outputs": []
    },
    {
      "cell_type": "code",
      "source": [
        "# Visualisasi hasil\n",
        "plt.figure(figsize=(12, 5))\n",
        "\n",
        "plt.subplot(1, 3, 1)\n",
        "plt.bar(results_data[\"Method\"], results_data[\"Execution Time (s)\"], color=['red', 'blue', 'green', 'purple'])\n",
        "plt.ylabel(\"Waktu Eksekusi (s)\")\n",
        "plt.title(\"Perbandingan Waktu Eksekusi OCR\")\n",
        "\n",
        "plt.subplot(1, 3, 2)\n",
        "plt.bar(results_data[\"Method\"], results_data[\"Word Accuracy (%)\"], color=['red', 'blue', 'green', 'purple'])\n",
        "plt.ylabel(\"Word Accuracy (%)\")\n",
        "plt.title(\"Perbandingan Akurasi OCR\")\n",
        "\n",
        "plt.subplot(1, 3, 3)\n",
        "plt.bar(results_data[\"Method\"], results_data[\"RAM Usage (MB)\"], color=['red', 'blue', 'green', 'purple'])\n",
        "plt.ylabel(\"Penggunaan RAM (MB)\")\n",
        "plt.title(\"Perbandingan Penggunaan RAM OCR\")\n",
        "\n",
        "plt.tight_layout()\n",
        "plt.show()"
      ],
      "metadata": {
        "id": "MT0YUq1Jbcml"
      },
      "execution_count": null,
      "outputs": []
    },
    {
      "cell_type": "code",
      "source": [
        "# Buat DataFrame dari hasil\n",
        "df_results = pd.DataFrame(results_list, columns=[\"Method\", \"Image\", \"Execution Time (s)\", \"Word Accuracy (%)\", \"RAM Usage (MB)\"])"
      ],
      "metadata": {
        "id": "MGqrgkJETQJ8"
      },
      "execution_count": null,
      "outputs": []
    },
    {
      "cell_type": "code",
      "source": [
        "# Tampilkan tabel hasil\n",
        "print(\"\\n📊 **Tabel Performa OCR**\")\n",
        "print(df_results)"
      ],
      "metadata": {
        "id": "XT64UAmbTSoH"
      },
      "execution_count": null,
      "outputs": []
    },
    {
      "cell_type": "code",
      "source": [
        "# Heatmap untuk visualisasi perbandingan\n",
        "plt.figure(figsize=(12, 6))\n",
        "df_pivot = df_results.pivot(index=\"Method\", columns=\"Image\", values=\"Word Accuracy (%)\")\n",
        "sns.heatmap(df_pivot, annot=True, cmap=\"coolwarm\", fmt=\".2f\")\n",
        "plt.title(\"Heatmap Akurasi Word Accuracy (%) Per Metode OCR\")\n",
        "plt.show()"
      ],
      "metadata": {
        "id": "0Jy5_9VVTTJT"
      },
      "execution_count": null,
      "outputs": []
    },
    {
      "cell_type": "code",
      "source": [
        "# Heatmap untuk Execution Time (s)\n",
        "plt.figure(figsize=(12, 6))\n",
        "df_pivot_time = df_results.pivot(index=\"Method\", columns=\"Image\", values=\"Execution Time (s)\")\n",
        "sns.heatmap(df_pivot_time, annot=True, cmap=\"coolwarm\", fmt=\".2f\")\n",
        "plt.title(\"Heatmap Execution Time (s) Per Metode OCR\")\n",
        "plt.show()"
      ],
      "metadata": {
        "id": "23KlU3KCTvFg"
      },
      "execution_count": null,
      "outputs": []
    },
    {
      "cell_type": "code",
      "source": [
        "\n",
        "# Heatmap untuk RAM Usage (MB)\n",
        "plt.figure(figsize=(12, 6))\n",
        "df_pivot_ram = df_results.pivot(index=\"Method\", columns=\"Image\", values=\"RAM Usage (MB)\")\n",
        "sns.heatmap(df_pivot_ram, annot=True, cmap=\"coolwarm\", fmt=\".2f\")\n",
        "plt.title(\"Heatmap RAM Usage (MB) Per Metode OCR\")\n",
        "plt.show()"
      ],
      "metadata": {
        "id": "1Q04pAGOaJsu"
      },
      "execution_count": null,
      "outputs": []
    },
    {
      "cell_type": "code",
      "source": [],
      "metadata": {
        "id": "QaSA9CUvaYWu"
      },
      "execution_count": null,
      "outputs": []
    }
  ]
}